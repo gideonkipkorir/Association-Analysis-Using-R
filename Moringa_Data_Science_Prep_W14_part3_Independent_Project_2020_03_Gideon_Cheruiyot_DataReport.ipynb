{
 "cells": [
  {
   "cell_type": "markdown",
   "metadata": {},
   "source": [
    "# Associative Analysis"
   ]
  },
  {
   "cell_type": "markdown",
   "metadata": {},
   "source": [
    "## Probelm statement:\n",
    "To find association between items sold in a supermarket from a list of transacations.\n",
    "## Metric of sucess:\n",
    "To successful identify itemsets that have a close association using certain Association rules.\n",
    "## Data relevance:\n",
    "* The relevance of the data will depend on sufficiency of data to estabilish association among groups of items sold in a supermarket.\n",
    "\n",
    "## Data souce:\n",
    "our data set is stored in a csv file that contains list of items in a transcation.\n",
    "## Experimental design\n",
    "* load and preview the dataset\n",
    "* obtain summary of the dataset\n",
    "* Explore frequent items.\n",
    "* Establish Association rules and apply on the dataset.\n",
    "* Inspect and interpret the rules and the outcomes\n",
    "\n"
   ]
  },
  {
   "cell_type": "code",
   "execution_count": 3,
   "metadata": {},
   "outputs": [
    {
     "name": "stderr",
     "output_type": "stream",
     "text": [
      "Warning message:\n",
      "\"package 'arules' was built under R version 3.6.3\"Loading required package: Matrix\n",
      "Warning message:\n",
      "\"package 'Matrix' was built under R version 3.6.3\"\n",
      "Attaching package: 'arules'\n",
      "\n",
      "The following objects are masked from 'package:base':\n",
      "\n",
      "    abbreviate, write\n",
      "\n"
     ]
    }
   ],
   "source": [
    "#Loading arules libray\n",
    "library(arules)"
   ]
  },
  {
   "cell_type": "code",
   "execution_count": 4,
   "metadata": {},
   "outputs": [
    {
     "name": "stderr",
     "output_type": "stream",
     "text": [
      "Warning message in asMethod(object):\n",
      "\"removing duplicated items in transactions\""
     ]
    },
    {
     "data": {
      "text/plain": [
       "transactions in sparse format with\n",
       " 6 transactions (rows) and\n",
       " 119 items (columns)"
      ]
     },
     "metadata": {},
     "output_type": "display_data"
    }
   ],
   "source": [
    "transactions<- read.transactions('Supermarket_Sales_Dataset II.csv', sep =',', header = 0)\n",
    "head(transactions)"
   ]
  },
  {
   "cell_type": "code",
   "execution_count": 5,
   "metadata": {},
   "outputs": [
    {
     "data": {
      "text/html": [
       "'transactions'"
      ],
      "text/latex": [
       "'transactions'"
      ],
      "text/markdown": [
       "'transactions'"
      ],
      "text/plain": [
       "[1] \"transactions\"\n",
       "attr(,\"package\")\n",
       "[1] \"arules\""
      ]
     },
     "metadata": {},
     "output_type": "display_data"
    }
   ],
   "source": [
    "class(transactions)"
   ]
  },
  {
   "cell_type": "code",
   "execution_count": 6,
   "metadata": {},
   "outputs": [
    {
     "data": {
      "text/html": [
       "<ol class=list-inline>\n",
       "\t<li>7501</li>\n",
       "\t<li>119</li>\n",
       "</ol>\n"
      ],
      "text/latex": [
       "\\begin{enumerate*}\n",
       "\\item 7501\n",
       "\\item 119\n",
       "\\end{enumerate*}\n"
      ],
      "text/markdown": [
       "1. 7501\n",
       "2. 119\n",
       "\n",
       "\n"
      ],
      "text/plain": [
       "[1] 7501  119"
      ]
     },
     "metadata": {},
     "output_type": "display_data"
    }
   ],
   "source": [
    "dim(transactions)"
   ]
  },
  {
   "cell_type": "code",
   "execution_count": 7,
   "metadata": {},
   "outputs": [
    {
     "data": {
      "text/plain": [
       "transactions as itemMatrix in sparse format with\n",
       " 7501 rows (elements/itemsets/transactions) and\n",
       " 119 columns (items) and a density of 0.03288973 \n",
       "\n",
       "most frequent items:\n",
       "mineral water          eggs     spaghetti  french fries     chocolate \n",
       "         1788          1348          1306          1282          1229 \n",
       "      (Other) \n",
       "        22405 \n",
       "\n",
       "element (itemset/transaction) length distribution:\n",
       "sizes\n",
       "   1    2    3    4    5    6    7    8    9   10   11   12   13   14   15   16 \n",
       "1754 1358 1044  816  667  493  391  324  259  139  102   67   40   22   17    4 \n",
       "  18   19   20 \n",
       "   1    2    1 \n",
       "\n",
       "   Min. 1st Qu.  Median    Mean 3rd Qu.    Max. \n",
       "  1.000   2.000   3.000   3.914   5.000  20.000 \n",
       "\n",
       "includes extended item information - examples:\n",
       "             labels\n",
       "1           almonds\n",
       "2 antioxydant juice\n",
       "3         asparagus"
      ]
     },
     "metadata": {},
     "output_type": "display_data"
    }
   ],
   "source": [
    "#generating summary of the dataset\n",
    "summary(transactions)"
   ]
  },
  {
   "cell_type": "code",
   "execution_count": 8,
   "metadata": {},
   "outputs": [
    {
     "data": {
      "text/html": [
       "<dl class=dl-horizontal>\n",
       "\t<dt>almonds</dt>\n",
       "\t\t<dd>153</dd>\n",
       "\t<dt>antioxydant juice</dt>\n",
       "\t\t<dd>67</dd>\n",
       "\t<dt>asparagus</dt>\n",
       "\t\t<dd>36</dd>\n",
       "\t<dt>avocado</dt>\n",
       "\t\t<dd>250</dd>\n",
       "\t<dt>babies food</dt>\n",
       "\t\t<dd>34</dd>\n",
       "\t<dt>bacon</dt>\n",
       "\t\t<dd>65</dd>\n",
       "</dl>\n"
      ],
      "text/latex": [
       "\\begin{description*}\n",
       "\\item[almonds] 153\n",
       "\\item[antioxydant juice] 67\n",
       "\\item[asparagus] 36\n",
       "\\item[avocado] 250\n",
       "\\item[babies food] 34\n",
       "\\item[bacon] 65\n",
       "\\end{description*}\n"
      ],
      "text/markdown": [
       "almonds\n",
       ":   153antioxydant juice\n",
       ":   67asparagus\n",
       ":   36avocado\n",
       ":   250babies food\n",
       ":   34bacon\n",
       ":   65\n",
       "\n"
      ],
      "text/plain": [
       "          almonds antioxydant juice         asparagus           avocado \n",
       "              153                67                36               250 \n",
       "      babies food             bacon \n",
       "               34                65 "
      ]
     },
     "metadata": {},
     "output_type": "display_data"
    },
    {
     "data": {
      "text/html": [
       "<dl class=dl-horizontal>\n",
       "\t<dt>almonds</dt>\n",
       "\t\t<dd>2.04</dd>\n",
       "\t<dt>antioxydant juice</dt>\n",
       "\t\t<dd>0.89</dd>\n",
       "\t<dt>asparagus</dt>\n",
       "\t\t<dd>0.48</dd>\n",
       "\t<dt>avocado</dt>\n",
       "\t\t<dd>3.33</dd>\n",
       "\t<dt>babies food</dt>\n",
       "\t\t<dd>0.45</dd>\n",
       "\t<dt>bacon</dt>\n",
       "\t\t<dd>0.87</dd>\n",
       "</dl>\n"
      ],
      "text/latex": [
       "\\begin{description*}\n",
       "\\item[almonds] 2.04\n",
       "\\item[antioxydant juice] 0.89\n",
       "\\item[asparagus] 0.48\n",
       "\\item[avocado] 3.33\n",
       "\\item[babies food] 0.45\n",
       "\\item[bacon] 0.87\n",
       "\\end{description*}\n"
      ],
      "text/markdown": [
       "almonds\n",
       ":   2.04antioxydant juice\n",
       ":   0.89asparagus\n",
       ":   0.48avocado\n",
       ":   3.33babies food\n",
       ":   0.45bacon\n",
       ":   0.87\n",
       "\n"
      ],
      "text/plain": [
       "          almonds antioxydant juice         asparagus           avocado \n",
       "             2.04              0.89              0.48              3.33 \n",
       "      babies food             bacon \n",
       "             0.45              0.87 "
      ]
     },
     "metadata": {},
     "output_type": "display_data"
    }
   ],
   "source": [
    "#Exploring of the frequency of some articles\n",
    "itemFrequency(transactions[, 1:6],type = \"absolute\")\n",
    "#Frequency in terms of frequency.\n",
    "round(itemFrequency(transactions[, 1:6],type = \"relative\")*100,2)"
   ]
  },
  {
   "cell_type": "code",
   "execution_count": 9,
   "metadata": {},
   "outputs": [
    {
     "data": {
      "image/png": "[encoded data removed]",
      "text/plain": [
       "plot without title"
      ]
     },
     "metadata": {},
     "output_type": "display_data"
    }
   ],
   "source": [
    "# Displaying top 10 most common items in the transactions dataset \n",
    "# and the items whose relative importance is at least 10%\n",
    "# \n",
    "par(mfrow = c(1, 2))\n",
    "\n",
    "# plot the frequency of items\n",
    "itemFrequencyPlot(transactions, topN = 10,col=\"darkgreen\")\n",
    "itemFrequencyPlot(transactions, support = 0.1,col=\"darkred\")"
   ]
  },
  {
   "cell_type": "code",
   "execution_count": 10,
   "metadata": {},
   "outputs": [
    {
     "name": "stdout",
     "output_type": "stream",
     "text": [
      "Apriori\n",
      "\n",
      "Parameter specification:\n",
      " confidence minval smax arem  aval originalSupport maxtime support minlen\n",
      "       0.75    0.1    1 none FALSE            TRUE       5   9e-04      1\n",
      " maxlen target   ext\n",
      "     10  rules FALSE\n",
      "\n",
      "Algorithmic control:\n",
      " filter tree heap memopt load sort verbose\n",
      "    0.1 TRUE TRUE  FALSE TRUE    2    TRUE\n",
      "\n",
      "Absolute minimum support count: 6 \n",
      "\n",
      "set item appearances ...[0 item(s)] done [0.00s].\n",
      "set transactions ...[119 item(s), 7501 transaction(s)] done [0.00s].\n",
      "sorting and recoding items ... [117 item(s)] done [0.00s].\n",
      "creating transaction tree ... done [0.00s].\n",
      "checking subsets of size 1 2 3 4 5 6 done [0.01s].\n",
      "writing ... [226 rule(s)] done [0.00s].\n",
      "creating S4 object  ... done [0.00s].\n"
     ]
    },
    {
     "data": {
      "text/plain": [
       "set of 226 rules "
      ]
     },
     "metadata": {},
     "output_type": "display_data"
    }
   ],
   "source": [
    "#Building a model based on the association rules.\n",
    "#Then apply Apriori fuction setting support as 0.001 and confidence at 0.8\n",
    "rules <- apriori (transactions, parameter = list(supp = 0.0009, conf = 0.75))\n",
    "rules"
   ]
  },
  {
   "cell_type": "code",
   "execution_count": 11,
   "metadata": {},
   "outputs": [
    {
     "data": {
      "text/plain": [
       "set of 226 rules\n",
       "\n",
       "rule length distribution (lhs + rhs):sizes\n",
       "  3   4   5   6 \n",
       " 34 130  61   1 \n",
       "\n",
       "   Min. 1st Qu.  Median    Mean 3rd Qu.    Max. \n",
       "  3.000   4.000   4.000   4.128   5.000   6.000 \n",
       "\n",
       "summary of quality measures:\n",
       "    support            confidence          lift            count      \n",
       " Min.   :0.0009332   Min.   :0.7500   Min.   : 3.146   Min.   : 7.00  \n",
       " 1st Qu.:0.0009332   1st Qu.:0.7778   1st Qu.: 3.356   1st Qu.: 7.00  \n",
       " Median :0.0009332   Median :0.8000   Median : 4.308   Median : 7.00  \n",
       " Mean   :0.0011279   Mean   :0.8241   Mean   : 4.580   Mean   : 8.46  \n",
       " 3rd Qu.:0.0011998   3rd Qu.:0.8750   3rd Qu.: 4.854   3rd Qu.: 9.00  \n",
       " Max.   :0.0030663   Max.   :1.0000   Max.   :12.722   Max.   :23.00  \n",
       "\n",
       "mining info:\n",
       "         data ntransactions support confidence\n",
       " transactions          7501   9e-04       0.75"
      ]
     },
     "metadata": {},
     "output_type": "display_data"
    }
   ],
   "source": [
    "summary(rules)"
   ]
  },
  {
   "cell_type": "code",
   "execution_count": 12,
   "metadata": {},
   "outputs": [
    {
     "name": "stdout",
     "output_type": "stream",
     "text": [
      "    lhs                                 rhs             support      confidence\n",
      "[1] {mayonnaise,pancakes}            => {mineral water} 0.0009332089 0.7777778 \n",
      "[2] {eggs,mayonnaise}                => {mineral water} 0.0009332089 0.7777778 \n",
      "[3] {frozen smoothie,spinach}        => {mineral water} 0.0010665245 0.8888889 \n",
      "[4] {shrimp,strong cheese}           => {mineral water} 0.0009332089 0.8750000 \n",
      "[5] {blueberries,chicken}            => {mineral water} 0.0009332089 0.7777778 \n",
      "[6] {blueberries,eggs}               => {mineral water} 0.0015997867 0.7500000 \n",
      "[7] {herb & pepper,whole weat flour} => {milk}          0.0009332089 0.7777778 \n",
      "[8] {herb & pepper,whole weat flour} => {mineral water} 0.0009332089 0.7777778 \n",
      "    lift     count\n",
      "[1] 3.262926  7   \n",
      "[2] 3.262926  7   \n",
      "[3] 3.729058  8   \n",
      "[4] 3.670791  7   \n",
      "[5] 3.262926  7   \n",
      "[6] 3.146393 12   \n",
      "[7] 6.002172  7   \n",
      "[8] 3.262926  7   \n"
     ]
    }
   ],
   "source": [
    "inspect(rules[1:8])"
   ]
  },
  {
   "cell_type": "markdown",
   "metadata": {},
   "source": [
    "**Interpretation:**\n",
    "if one buys eggs, mineral water and pasta , there is 90% chance that he/she will buy shrimp.Also, if one buys french fries, mushroom cream sauce and pasta, there is 100% chance he will buy escalope.\n"
   ]
  },
  {
   "cell_type": "code",
   "execution_count": 13,
   "metadata": {},
   "outputs": [
    {
     "name": "stdout",
     "output_type": "stream",
     "text": [
      "    lhs                       rhs                  support confidence      lift count\n",
      "[1] {ground beef,                                                                    \n",
      "     milk,                                                                           \n",
      "     nonfat milk}          => {mineral water} 0.0009332089          1  4.195190     7\n",
      "[2] {french fries,                                                                   \n",
      "     mushroom cream sauce,                                                           \n",
      "     pasta}                => {escalope}      0.0010665245          1 12.606723     8\n",
      "[3] {ground beef,                                                                    \n",
      "     light cream,                                                                    \n",
      "     olive oil}            => {mineral water} 0.0011998400          1  4.195190     9\n",
      "[4] {cake,                                                                           \n",
      "     meatballs,                                                                      \n",
      "     mineral water}        => {milk}          0.0010665245          1  7.717078     8\n",
      "[5] {chocolate,                                                                      \n",
      "     energy bar,                                                                     \n",
      "     low fat yogurt}       => {mineral water} 0.0009332089          1  4.195190     7\n",
      "[6] {spaghetti,                                                                      \n",
      "     turkey,                                                                         \n",
      "     whole wheat pasta}    => {mineral water} 0.0009332089          1  4.195190     7\n",
      "[7] {hot dogs,                                                                       \n",
      "     salmon,                                                                         \n",
      "     spaghetti}            => {mineral water} 0.0009332089          1  4.195190     7\n",
      "[8] {cookies,                                                                        \n",
      "     milk,                                                                           \n",
      "     spaghetti}            => {french fries}  0.0009332089          1  5.851014     7\n"
     ]
    }
   ],
   "source": [
    "#checking the first 8 rules based on confidence\n",
    "rules<-sort(rules, by=\"confidence\", decreasing=TRUE)\n",
    "inspect(rules[1:8])"
   ]
  },
  {
   "cell_type": "markdown",
   "metadata": {},
   "source": [
    "The above 8 rules have 100% chances of being bought together\n"
   ]
  },
  {
   "cell_type": "code",
   "execution_count": 14,
   "metadata": {},
   "outputs": [
    {
     "name": "stdout",
     "output_type": "stream",
     "text": [
      "    lhs                       rhs                      support confidence      lift count\n",
      "[1] {eggs,                                                                               \n",
      "     mineral water,                                                                      \n",
      "     pasta}                => {shrimp}            0.0013331556  0.9090909 12.722185    10\n",
      "[2] {french fries,                                                                       \n",
      "     mushroom cream sauce,                                                               \n",
      "     pasta}                => {escalope}          0.0010665245  1.0000000 12.606723     8\n",
      "[3] {milk,                                                                               \n",
      "     pasta}                => {shrimp}            0.0015997867  0.8571429 11.995203    12\n",
      "[4] {mushroom cream sauce,                                                               \n",
      "     pasta}                => {escalope}          0.0025329956  0.9500000 11.976387    19\n",
      "[5] {french fries,                                                                       \n",
      "     low fat yogurt,                                                                     \n",
      "     shallot}              => {cookies}           0.0009332089  0.8750000 10.884536     7\n",
      "[6] {mineral water,                                                                      \n",
      "     pasta}                => {shrimp}            0.0015997867  0.7500000 10.495802    12\n",
      "[7] {cookies,                                                                            \n",
      "     french fries,                                                                       \n",
      "     shallot}              => {low fat yogurt}    0.0009332089  0.7777778 10.163957     7\n",
      "[8] {chocolate,                                                                          \n",
      "     ground beef,                                                                        \n",
      "     milk,                                                                               \n",
      "     mineral water,                                                                      \n",
      "     spaghetti}            => {frozen vegetables} 0.0010665245  0.8888889  9.325253     8\n"
     ]
    }
   ],
   "source": [
    "#checking the first 8 rules based on lift\n",
    "rules<-sort(rules, by=\"lift\", decreasing=TRUE)\n",
    "inspect(rules[1:8])"
   ]
  },
  {
   "cell_type": "markdown",
   "metadata": {},
   "source": [
    "The above list contains items that most likely to be bought together based on lift"
   ]
  },
  {
   "cell_type": "markdown",
   "metadata": {},
   "source": [
    "*Suppose you want to know items that might be bought alongside french fries?*\n"
   ]
  },
  {
   "cell_type": "code",
   "execution_count": 23,
   "metadata": {},
   "outputs": [
    {
     "name": "stdout",
     "output_type": "stream",
     "text": [
      "    lhs                       rhs                  support confidence      lift count\n",
      "[1] {french fries,                                                                   \n",
      "     mushroom cream sauce,                                                           \n",
      "     pasta}                => {escalope}      0.0010665245  1.0000000 12.606723     8\n",
      "[2] {escalope,                                                                       \n",
      "     french fries,                                                                   \n",
      "     shrimp}               => {chocolate}     0.0010665245  0.8888889  5.425188     8\n",
      "[3] {french fries,                                                                   \n",
      "     low fat yogurt,                                                                 \n",
      "     shallot}              => {cookies}       0.0009332089  0.8750000 10.884536     7\n",
      "[4] {burgers,                                                                        \n",
      "     cake,                                                                           \n",
      "     chocolate,                                                                      \n",
      "     french fries}         => {mineral water} 0.0009332089  0.8750000  3.670791     7\n",
      "[5] {french fries,                                                                   \n",
      "     herb & pepper,                                                                  \n",
      "     milk}                 => {mineral water} 0.0011998400  0.8181818  3.432428     9\n"
     ]
    }
   ],
   "source": [
    "# Subset the rules\n",
    "french_fries <- subset(rules, subset = lhs %pin% \"french fries\")\n",
    "# Order by confidence\n",
    "french_fries<-sort(french_fries, by=\"confidence\", decreasing=TRUE)\n",
    "# inspect top 5\n",
    "inspect(french_fries[1:5])"
   ]
  },
  {
   "cell_type": "code",
   "execution_count": null,
   "metadata": {},
   "outputs": [],
   "source": []
  }
 ],
 "metadata": {
  "kernelspec": {
   "display_name": "R",
   "language": "R",
   "name": "ir"
  },
  "language_info": {
   "codemirror_mode": "r",
   "file_extension": ".r",
   "mimetype": "text/x-r-source",
   "name": "R",
   "pygments_lexer": "r",
   "version": "3.6.1"
  }
 },
 "nbformat": 4,
 "nbformat_minor": 2
}
